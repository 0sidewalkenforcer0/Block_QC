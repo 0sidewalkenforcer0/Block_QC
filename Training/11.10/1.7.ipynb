{
 "cells": [
  {
   "cell_type": "markdown",
   "metadata": {},
   "source": [
    "https://github.com/quantum-challenge/2019/blob/master/problems/how_to_calculate_quantum_cost_en.ipynb\n",
    "\n",
    "\n",
    "### QUANTUM COSTS"
   ]
  },
  {
   "cell_type": "code",
   "execution_count": 10,
   "metadata": {},
   "outputs": [],
   "source": [
    "from qiskit import QuantumCircuit, Aer, assemble, IBMQ, transpile\n",
    "from qiskit.visualization import plot_bloch_multivector, plot_histogram, array_to_latex, plot_bloch_multivector\n",
    "from qiskit.circuit import Gate\n",
    "import qiskit.extensions as q_ext\n",
    "from qiskit.quantum_info import Statevector\n",
    "from qiskit.circuit.quantumregister import QuantumRegister\n",
    "from qiskit.exceptions import QiskitError\n",
    "from qiskit.transpiler import PassManager\n",
    "from qiskit.transpiler.passes import Unroller\n",
    "\n",
    "from qiskit import QuantumCircuit, QuantumRegister,\\\n",
    "    ClassicalRegister,transpile, Aer, IBMQ,execute\n",
    "from qiskit.test.mock import FakeBoeblingen\n",
    "backend = FakeBoeblingen()\n",
    "\n",
    "\n",
    "import matplotlib.pyplot as plt\n",
    "import numpy as np\n",
    "import math\n",
    "from math import pi"
   ]
  },
  {
   "cell_type": "code",
   "execution_count": 11,
   "metadata": {},
   "outputs": [],
   "source": [
    "y = QuantumRegister(1)\n",
    "c = ClassicalRegister(2)"
   ]
  },
  {
   "cell_type": "code",
   "execution_count": 12,
   "metadata": {},
   "outputs": [],
   "source": [
    "# Graph colouring\n",
    "def reflection(qc,x):\n",
    "    # Performs reflection around state |0>: adds a negative phase only to state |0>\n",
    "    qc.x(x) #apply X to whole register\n",
    "    qc.h(x[-1])#apply hadamard to last qubit\n",
    "    qc.mcx(x[:-1],x[-1]) #apply multi control x gate\n",
    "    qc.h(x[-1])\n",
    "    qc.x(x)\n",
    "def diffuser(qc,x):\n",
    "    # Transforms superposition state |s> -> |0>, reflects about |0>\n",
    "    # and transforms back to |s> again.\n",
    "    qc.h(x)\n",
    "    reflection(qc,x)\n",
    "    qc.h(x)"
   ]
  },
  {
   "cell_type": "code",
   "execution_count": 13,
   "metadata": {},
   "outputs": [
    {
     "name": "stdout",
     "output_type": "stream",
     "text": [
      "Graph Coloring 1.7 Output:\n",
      "{'11': 1000}\n",
      "OrderedDict([('u3', 99), ('cx', 75), ('p', 15), ('measure', 2)])\n",
      "Cost: 864\n"
     ]
    }
   ],
   "source": [
    "# Aufgabe 1.7) Graphcoloring 4 Farben\n",
    "nodes_with_colors = QuantumRegister(8)\n",
    "edges_2 = QuantumRegister(3)\n",
    "y_2 = QuantumRegister(1)\n",
    "qc_2 = QuantumCircuit(nodes_with_colors, edges_2, y_2, c)\n",
    "\n",
    "# Knoten 0 ist 00 -> passt\n",
    "# Knoten 1 ist 01\n",
    "qc_2.x(nodes_with_colors[3])\n",
    "# Knoten 2 ist 10\n",
    "qc_2.x(nodes_with_colors[4])\n",
    "# Knoten 3 ist unbekannt\n",
    "qc_2.h(nodes_with_colors[6])\n",
    "qc_2.h(nodes_with_colors[7])\n",
    "# y ist 1\n",
    "qc_2.x(y_2)\n",
    "# ... und dann in Superposition\n",
    "qc_2.h(y_2)\n",
    "\n",
    "# Kanten auf 1\n",
    "for e in edges_2:\n",
    "    qc_2.x(e)\n",
    "\n",
    "def multi_color_oracle(qc, nodes_with_colors, edges_2, y):\n",
    "    def set_edge(qc,nodes_with_colors, edges_2, n, m, e):\n",
    "        qc.cx(nodes_with_colors[n], nodes_with_colors[m])\n",
    "        qc.cx(nodes_with_colors[n + 1], nodes_with_colors[m + 1])\n",
    "        qc.x(nodes_with_colors[m])\n",
    "        qc.x(nodes_with_colors[m + 1])\n",
    "        qc.ccx(nodes_with_colors[m], nodes_with_colors[m + 1], edges_2[e])\n",
    "        qc.x(nodes_with_colors[m])\n",
    "        qc.x(nodes_with_colors[m + 1])\n",
    "        qc.cx(nodes_with_colors[n], nodes_with_colors[m])\n",
    "        qc.cx(nodes_with_colors[n + 1], nodes_with_colors[m + 1])\n",
    "\n",
    "    set_edge(qc, nodes_with_colors, edges_2, 0, 6, 0)\n",
    "    set_edge(qc, nodes_with_colors, edges_2, 2, 6, 1)\n",
    "    set_edge(qc, nodes_with_colors, edges_2, 4, 6, 2)\n",
    "    qc.mcx(edges_2, y)\n",
    "    set_edge(qc, nodes_with_colors, edges_2, 0, 6, 0)\n",
    "    set_edge(qc, nodes_with_colors, edges_2, 2, 6, 1)\n",
    "    set_edge(qc, nodes_with_colors, edges_2, 4, 6, 2)\n",
    "\n",
    "for i in range(math.floor((math.pi / 4) * math.sqrt((2 ** 1) / 1))):\n",
    "    multi_color_oracle(qc_2, nodes_with_colors, edges_2, y_2)\n",
    "    diffuser(qc_2, [nodes_with_colors[6], nodes_with_colors[7]])\n",
    "\n",
    "qc_2.measure(nodes_with_colors[6], c[0])\n",
    "qc_2.measure(nodes_with_colors[7], c[1])\n",
    "\n",
    "qc_2.draw(output='mpl', filename=\"graph_coloring_1.7.png\", plot_barriers=False)\n",
    "\n",
    "shots = 1000\n",
    "# To use local qasm simulator\n",
    "backend = Aer.get_backend('qasm_simulator')\n",
    "job = execute(qc_2, backend=backend, shots=shots)\n",
    "result = job.result()\n",
    "data = result.get_counts()\n",
    "print(\"Graph Coloring 1.7 Output:\")\n",
    "print(data)\n",
    "\n",
    "# Wie verändert sich die Lösung, wenn Sie die Farbe von Knoten 2 noch nicht kennen?\n",
    "# Hadamard auf die Qubits von Knoten 2, und entsprechend Kanten zwischen Knoten 1 und 2 und 2 und 0 ergänzen (analog wie bei Knoten 3),\n",
    "# und Anzahl Iterationen anpassen (mit n = 2 statt 1)\n",
    "# Output dann 4 Bits lang (Farben für beide Knoten)\n",
    "\n",
    "pass_ = Unroller(['u3', 'cx', 'p'])\n",
    "pm = PassManager(pass_)\n",
    "new_circuit = pm.run(qc_2)\n",
    "new_circuit.draw(output='mpl', filename=\"graph_coloring_1.7_transpiled.png\")\n",
    "ops = new_circuit.count_ops()\n",
    "print(ops)\n",
    "cost = ops['u3'] + ops['p'] + 10 * ops['cx']\n",
    "print(\"Cost: \" + str(cost))"
   ]
  },
  {
   "cell_type": "code",
   "execution_count": null,
   "metadata": {},
   "outputs": [],
   "source": []
  }
 ],
 "metadata": {
  "kernelspec": {
   "display_name": "Python 3",
   "language": "python",
   "name": "python3"
  },
  "language_info": {
   "codemirror_mode": {
    "name": "ipython",
    "version": 3
   },
   "file_extension": ".py",
   "mimetype": "text/x-python",
   "name": "python",
   "nbconvert_exporter": "python",
   "pygments_lexer": "ipython3",
   "version": "3.8.10"
  }
 },
 "nbformat": 4,
 "nbformat_minor": 4
}

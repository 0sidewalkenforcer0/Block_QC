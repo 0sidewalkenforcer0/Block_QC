{
 "cells": [
  {
   "cell_type": "markdown",
   "metadata": {},
   "source": [
    "## Solving combinatorial optimization problems using QAOA"
   ]
  },
  {
   "cell_type": "code",
   "execution_count": 1,
   "metadata": {},
   "outputs": [],
   "source": [
    "import sys\n",
    "import time\n",
    "import numpy as np\n",
    "import pandas as pd\n",
    "import pennylane as qml\n",
    "import seaborn as sns\n",
    "from dwave_qbsolv import QBSolv\n",
    "from matplotlib import pyplot as plt\n",
    "from pennylane import qaoa\n",
    "import copy\n",
    "import progressbar\n",
    "import os\n",
    "import os.path\n",
    "from qiskit import IBMQ\n",
    "\n",
    "import dimod.utilities"
   ]
  },
  {
   "cell_type": "code",
   "execution_count": 21,
   "metadata": {},
   "outputs": [],
   "source": [
    "n = 5\n",
    "\n",
    "np.set_printoptions(threshold=sys.maxsize)\n",
    "QUBO_X = np.zeros((n, n))\n",
    "np.set_printoptions(suppress=True)"
   ]
  },
  {
   "cell_type": "code",
   "execution_count": 3,
   "metadata": {},
   "outputs": [
    {
     "name": "stdout",
     "output_type": "stream",
     "text": [
      "{(0, 0): 0, (0, 1): 0, (0, 2): 0, (0, 3): 0, (0, 4): 0, (1, 1): 0, (1, 2): 0, (1, 3): 0, (1, 4): 0, (2, 2): 0, (2, 3): 0, (2, 4): 0, (3, 3): 0, (3, 4): 0, (4, 4): 0}\n"
     ]
    }
   ],
   "source": [
    "qubo_d = {}\n",
    "x1 = 0\n",
    "while x1 < n:\n",
    "    x2 = x1\n",
    "    while x2 < n:\n",
    "        qubo_d[(x1, x2)] = int(QUBO_X[x1][x2])\n",
    "        x2 += 1\n",
    "    x1 += 1\n",
    "    \n",
    "print(qubo_d)"
   ]
  },
  {
   "cell_type": "code",
   "execution_count": 4,
   "metadata": {},
   "outputs": [],
   "source": [
    "def make_symmetric(matrix):\n",
    "    \"\"\" Takes a quadratic matrix and makes it symmetric \"\"\"\n",
    "    result = copy.deepcopy(matrix) # technically unnecessary\n",
    "    for i in range(len(result)):\n",
    "        for j in range(len(result[i])):\n",
    "            if(i != j):\n",
    "                if (result[i][j] != 0):\n",
    "                    if (result[j][i] == 0):\n",
    "                        result[j][i] = result[i][j] / 2\n",
    "                        result[i][j] = result[j][i]\n",
    "    return result\n",
    "q_QUBO_X = make_symmetric(QUBO_X)"
   ]
  },
  {
   "cell_type": "code",
   "execution_count": 5,
   "metadata": {},
   "outputs": [
    {
     "name": "stdout",
     "output_type": "stream",
     "text": [
      "({0: 0.0, 1: 0.0, 2: 0.0, 3: 0.0, 4: 0.0}, {}, 0.0)\n",
      "\n",
      "\n",
      "{0: 0.0, 1: 0.0, 2: 0.0, 3: 0.0, 4: 0.0}\n",
      "\n",
      "\n",
      "{}\n"
     ]
    }
   ],
   "source": [
    "isingX = dimod.qubo_to_ising(qubo_d, 0)\n",
    "print(isingX)\n",
    "(linear, quadratic, _) = isingX\n",
    "print(\"\\n\")\n",
    "print(linear)\n",
    "print(\"\\n\")\n",
    "print(quadratic)"
   ]
  },
  {
   "cell_type": "code",
   "execution_count": 6,
   "metadata": {},
   "outputs": [],
   "source": [
    "n_qubits = n\n",
    "wires = range(n_qubits)\n",
    "depthX = 2"
   ]
  },
  {
   "cell_type": "code",
   "execution_count": 7,
   "metadata": {},
   "outputs": [
    {
     "name": "stdout",
     "output_type": "stream",
     "text": [
      "  (0.0) [Z0]\n",
      "+ (0.0) [Z1]\n",
      "+ (0.0) [Z2]\n",
      "+ (0.0) [Z3]\n",
      "+ (0.0) [Z4]\n"
     ]
    }
   ],
   "source": [
    "linear_coefficents = [linear[i] for i in range(n_qubits) if i in linear]\n",
    "linear_gates = [qml.PauliZ(i) for i in range(n_qubits) if i in linear]\n",
    "quadratic_coefficents = [quadratic[(i, j)] for i in range(n_qubits) for j in range(n_qubits) if (i, j) in quadratic]\n",
    "quadratic_gates = [qml.PauliZ(i) @ qml.PauliZ(j) for i in range(n_qubits) for j in range(n_qubits) if\n",
    "                       (i, j) in quadratic]\n",
    "\n",
    "coefficents = linear_coefficents + quadratic_coefficents\n",
    "gates = linear_gates + quadratic_gates\n",
    "\n",
    "cost_h = qml.Hamiltonian(coefficents, gates)\n",
    "print(cost_h)"
   ]
  },
  {
   "cell_type": "code",
   "execution_count": 8,
   "metadata": {},
   "outputs": [
    {
     "name": "stdout",
     "output_type": "stream",
     "text": [
      "  (1) [X0]\n",
      "+ (1) [X1]\n",
      "+ (1) [X2]\n",
      "+ (1) [X3]\n",
      "+ (1) [X4]\n"
     ]
    }
   ],
   "source": [
    "mixer_h = qaoa.x_mixer(0)\n",
    "for i in range(n_qubits - 1):\n",
    "    mixer_h += qaoa.x_mixer(i + 1)\n",
    "print(mixer_h)"
   ]
  },
  {
   "cell_type": "code",
   "execution_count": 9,
   "metadata": {},
   "outputs": [],
   "source": [
    "def qaoa_layer(gamma, alpha):\n",
    "    qaoa.cost_layer(gamma, cost_h)\n",
    "    qaoa.mixer_layer(alpha, mixer_h)"
   ]
  },
  {
   "cell_type": "code",
   "execution_count": 10,
   "metadata": {},
   "outputs": [],
   "source": [
    "def circuit(params, **kwargs):\n",
    "    for w in wires:\n",
    "        qml.Hadamard(wires=w)\n",
    "    qml.layer(qaoa_layer, depthX, params[0], params[1])"
   ]
  },
  {
   "cell_type": "code",
   "execution_count": 11,
   "metadata": {},
   "outputs": [],
   "source": [
    "token = '1c854f9916477c15b8ef30c1243313b67e739cfc30f10cd741d7ad787f102bca0f0e60f474acc939c10761884cc75eff19910dbc5fb2e045c1f56dc1b274d553'"
   ]
  },
  {
   "cell_type": "code",
   "execution_count": 12,
   "metadata": {},
   "outputs": [],
   "source": [
    "dev = qml.device(\"qiskit.ibmq\", wires=wires, ibmqx_token=token)\n"
   ]
  },
  {
   "cell_type": "code",
   "execution_count": 13,
   "metadata": {},
   "outputs": [],
   "source": [
    "cost_function = qml.ExpvalCost(circuit, cost_h, dev, optimize=True)"
   ]
  },
  {
   "cell_type": "code",
   "execution_count": 14,
   "metadata": {},
   "outputs": [],
   "source": [
    "optimizer = qml.AdamOptimizer() # qml.GradientDescentOptimizer() # qml.AdamOptimizer() # qml.AdagradOptimizer()"
   ]
  },
  {
   "cell_type": "code",
   "execution_count": 15,
   "metadata": {},
   "outputs": [
    {
     "name": "stdout",
     "output_type": "stream",
     "text": [
      "Start parameters:  [[1.5346444645333537, 1.5932816845526026], [1.5451015974465807, 1.025692645307958]]\n"
     ]
    }
   ],
   "source": [
    "params = [[1.5346444645333537, 1.5932816845526026], [1.5451015974465807, 1.025692645307958]] #pre-optimized parameters\n",
    "\n",
    "print(\"Start parameters: \", params)"
   ]
  },
  {
   "cell_type": "code",
   "execution_count": 16,
   "metadata": {},
   "outputs": [
    {
     "name": "stdout",
     "output_type": "stream",
     "text": [
      "C:\\Users\\potap\\PycharmProjects\\quantum-walks-away\\QW\\QC Praktitum Kranzlmüller\\12.10\\Recap\n",
      "C:\\Users\\potap\\PycharmProjects\\quantum-walks-away\\QW\\QC Praktitum Kranzlmüller\\12.10\\Recap\\AdamOptimizer_2_5_[[1.5346444645333537, 1.5932816845526026], [1.5451015974465807, 1.025692645307958]]\n"
     ]
    }
   ],
   "source": [
    "steps = 5\n",
    "\n",
    "optimizerType = type(optimizer).__name__\n",
    "path = os.getcwd()\n",
    "print(path)\n",
    "savestring = path + f\"\\{optimizerType}_{depthX}_{steps}_{params}\"\n",
    "print(savestring)"
   ]
  },
  {
   "cell_type": "code",
   "execution_count": 17,
   "metadata": {},
   "outputs": [
    {
     "name": "stderr",
     "output_type": "stream",
     "text": [
      "N/A% (0 of 5) |                          | Elapsed Time: 0:00:00 ETA:  --:--:--"
     ]
    },
    {
     "name": "stdout",
     "output_type": "stream",
     "text": [
      " | New parameters: [[1.5346444645333537, 1.5932816845526026], [1.5451015974465807, 1.025692645307958]]\n",
      "\n",
      " 0\n",
      " | New parameters: [[1.5346444645333537, 1.5932816845526026], [1.5451015974465807, 1.025692645307958]]\n",
      "\n",
      " 0\n",
      " | New parameters: [[1.5346444645333537, 1.5932816845526026], [1.5451015974465807, 1.025692645307958]]\n",
      "\n",
      " 0\n",
      " | New parameters: [[1.5346444645333537, 1.5932816845526026], [1.5451015974465807, 1.025692645307958]]\n",
      "\n",
      " 0\n",
      " | New parameters: [[1.5346444645333537, 1.5932816845526026], [1.5451015974465807, 1.025692645307958]]\n",
      "\n",
      " 0\n"
     ]
    },
    {
     "name": "stderr",
     "output_type": "stream",
     "text": [
      "C:\\Users\\potap\\AppData\\Local\\Programs\\Python\\Python38\\lib\\site-packages\\autograd\\tracer.py:14: UserWarning: Output seems independent of input.\n",
      "  warnings.warn(\"Output seems independent of input.\")\n",
      "100% (5 of 5) |##########################| Elapsed Time: 0:00:00 Time:  0:00:00\n"
     ]
    },
    {
     "name": "stdout",
     "output_type": "stream",
     "text": [
      "\n",
      "\n",
      "Optimal parameters:  [[1.5346444645333537, 1.5932816845526026], [1.5451015974465807, 1.025692645307958]]\n"
     ]
    }
   ],
   "source": [
    "for i in progressbar.progressbar(range(steps), redirect_stdout=True):\n",
    "    params = optimizer.step(cost_function, params)\n",
    "    print(' | New parameters:', params)\n",
    "    print(\"\\n\", dev.num_executions)\n",
    "    f = open(savestring + \"paramsQuicksaveIBM.txt\", 'a+')\n",
    "    f.write(\"parameter quicksave stepnumber \" + str(i) + \": \" + str(params) + \"\\n\\n\")\n",
    "    f.close()\n",
    "\n",
    "print(\"\\n\")\n",
    "print(\"Optimal parameters: \", params)"
   ]
  },
  {
   "cell_type": "code",
   "execution_count": 19,
   "metadata": {},
   "outputs": [],
   "source": [
    "@qml.qnode(dev)\n",
    "def probability_circuit(gamma, alpha):\n",
    "    circuit([gamma, alpha])\n",
    "    return qml.probs(wires=wires)\n",
    "\n",
    "\n",
    "probs = probability_circuit(params[0], params[1])"
   ]
  },
  {
   "cell_type": "code",
   "execution_count": 20,
   "metadata": {},
   "outputs": [
    {
     "data": {
      "image/png": "[encoded data removed]",
      "text/plain": [
       "<Figure size 576x396 with 1 Axes>"
      ]
     },
     "metadata": {},
     "output_type": "display_data"
    }
   ],
   "source": [
    "plt.style.use(\"seaborn\")\n",
    "plt.bar(range(2 ** len(wires)), probs)\n",
    "plt.savefig(savestring + \".png\")\n",
    "plt.show()"
   ]
  },
  {
   "cell_type": "code",
   "execution_count": null,
   "metadata": {},
   "outputs": [],
   "source": []
  },
  {
   "cell_type": "code",
   "execution_count": null,
   "metadata": {},
   "outputs": [],
   "source": []
  },
  {
   "cell_type": "code",
   "execution_count": null,
   "metadata": {},
   "outputs": [],
   "source": []
  },
  {
   "cell_type": "code",
   "execution_count": null,
   "metadata": {},
   "outputs": [],
   "source": []
  }
 ],
 "metadata": {
  "kernelspec": {
   "display_name": "Python 3",
   "language": "python",
   "name": "python3"
  },
  "language_info": {
   "codemirror_mode": {
    "name": "ipython",
    "version": 3
   },
   "file_extension": ".py",
   "mimetype": "text/x-python",
   "name": "python",
   "nbconvert_exporter": "python",
   "pygments_lexer": "ipython3",
   "version": "3.8.10"
  }
 },
 "nbformat": 4,
 "nbformat_minor": 4
}

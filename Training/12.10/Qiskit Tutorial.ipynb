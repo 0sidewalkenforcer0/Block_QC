{
 "cells": [
  {
   "cell_type": "markdown",
   "metadata": {},
   "source": [
    "## Solving combinatorial optimization problems using QAOA"
   ]
  },
  {
   "cell_type": "code",
   "execution_count": 134,
   "metadata": {},
   "outputs": [],
   "source": [
    "import networkx as nx\n",
    "import matplotlib.pyplot as plt\n",
    "import sys\n",
    "import time\n",
    "import numpy as np\n",
    "import pandas as pd\n",
    "import pennylane as qml\n",
    "import seaborn as sns\n",
    "from dwave_qbsolv import QBSolv\n",
    "from matplotlib import pyplot as plt\n",
    "from pennylane import qaoa\n",
    "import copy\n",
    "import progressbar\n",
    "import os\n",
    "import os.path\n",
    "from qiskit import IBMQ\n",
    "\n",
    "import dimod.utilities"
   ]
  },
  {
   "cell_type": "code",
   "execution_count": 135,
   "metadata": {},
   "outputs": [],
   "source": [
    "from qiskit import QuantumCircuit, ClassicalRegister, QuantumRegister\n",
    "from qiskit import Aer, execute\n",
    "from qiskit.circuit import Parameter\n",
    "from qiskit.visualization import plot_histogram"
   ]
  },
  {
   "cell_type": "code",
   "execution_count": 136,
   "metadata": {},
   "outputs": [],
   "source": [
    "from scipy.optimize import minimize"
   ]
  },
  {
   "cell_type": "markdown",
   "metadata": {},
   "source": [
    "The **problem Hamiltonian** specific to the Max-Cut problem up to a constant here is:\n",
    "\n",
    "$$\n",
    "H_{P}=\\frac{1}{2}\\left(Z_{0} \\otimes Z_{1} \\otimes I_{2} \\otimes I_{3}\\right)+\\frac{1}{2}\\left(I_{0} \\otimes Z_{1} \\otimes Z_{2} \\otimes I_{3}\\right)+\\frac{1}{2}\\left(Z_{0} \\otimes I_{1} \\otimes I_{2} \\otimes Z_{3}\\right)+\\frac{1}{2}\\left(I_{0} \\otimes I_{1} \\otimes Z_{2} \\otimes Z_{3}\\right)\n",
    "$$\n",
    "\n",
    "To contruct such a Hamiltonian for a problem, one needs to follow a few steps that we'll cover in later sections of this page.\n",
    "\n",
    "\n",
    "The **mixer Hamiltonian** $H_{B}$ is usually of the form:\n",
    "\n",
    "$$\n",
    "H_{B}=\\left(X_{0} \\otimes I_{1} \\otimes I_{2} \\otimes I_{3}\\right)+\\left(I_{0} \\otimes X_{1} \\otimes I_{2} \\otimes I_{3}\\right)+\\left(I_{0} \\otimes I_{1} \\otimes X_{2} \\otimes I_{3}\\right)+\\left(I_{0} \\otimes I_{1} \\otimes I_{2} \\otimes X_{3}\\right)\n",
    "$$\n",
    "---------\n",
    "As individual terms in the summation of $H_{P}$ and $H_{B}$ both commute, we can write the unitaries as:\n",
    "\n",
    "$$\n",
    "U\\left(H_{B}\\right)=e^{-i \\beta H_{B}}=e^{-i \\beta X_{0}} e^{-i \\beta X_{1}} e^{-i \\beta X_{2}} e^{-i \\beta X_{3}}\n",
    "$$\n",
    "\n",
    "Notice that each term in the product above corresponds to an $X$-rotation on each qubit. \n",
    "\n",
    "------\n",
    "And we can write $U\\left(H_{P}\\right)$ as:\n",
    "\n",
    "$$\n",
    "U\\left(H_{P}\\right)=e^{-i \\gamma H_{P}}=e^{-i \\gamma Z_{0} Z_{1}} e^{-i \\gamma Z_{1} Z_{2}} e^{-i \\gamma Z_{2} Z_{3}} e^{-i \\gamma Z_{0} Z_{3}}\n",
    "$$\n",
    "\n",
    "Let's now examine what the circuits of the two unitaries look like."
   ]
  },
  {
   "cell_type": "code",
   "execution_count": 150,
   "metadata": {},
   "outputs": [],
   "source": [
    "#easy\n",
    "number_set = [1,2,3]\n",
    "S = 3\n",
    "\n",
    "n_qubits = len(number_set)"
   ]
  },
  {
   "cell_type": "code",
   "execution_count": 151,
   "metadata": {},
   "outputs": [],
   "source": [
    "def fill_QUBO(number_set, S):\n",
    "    n = len(number_set)\n",
    "    QUBO = np.zeros((n, n))\n",
    "    \n",
    "    #Lin Terms\n",
    "    for i in range(n):\n",
    "        w_i = number_set[i]\n",
    "        QUBO[i][i] = w_i*w_i-2*S*w_i\n",
    "        #print(w_i*w_i-2*S*w_i)\n",
    "        \n",
    "        #Quadratische Terms\n",
    "        for j in range(i+1, n, 1):\n",
    "            w_j = number_set[j]\n",
    "            QUBO[i][j] = 2*w_i*w_j\n",
    "    return QUBO"
   ]
  },
  {
   "cell_type": "code",
   "execution_count": 152,
   "metadata": {},
   "outputs": [
    {
     "name": "stdout",
     "output_type": "stream",
     "text": [
      "[[-5.  4.  6.]\n",
      " [ 0. -8. 12.]\n",
      " [ 0.  0. -9.]]\n"
     ]
    }
   ],
   "source": [
    "QUBO = fill_QUBO(number_set, S)\n",
    "print(QUBO)"
   ]
  },
  {
   "cell_type": "code",
   "execution_count": 153,
   "metadata": {},
   "outputs": [
    {
     "name": "stdout",
     "output_type": "stream",
     "text": [
      "{(0, 0): -5, (0, 1): 4, (0, 2): 6, (1, 1): -8, (1, 2): 12, (2, 2): -9}\n"
     ]
    }
   ],
   "source": [
    "## convert QUBO to dictionary \n",
    "n = len(number_set)\n",
    "\n",
    "qubo_d = {}\n",
    "x1 = 0\n",
    "while x1 < n:\n",
    "    x2 = x1\n",
    "    while x2 < n:\n",
    "        qubo_d[(x1, x2)] = int(QUBO[x1][x2])\n",
    "        x2 += 1\n",
    "    x1 += 1\n",
    "    \n",
    "print(qubo_d)"
   ]
  },
  {
   "cell_type": "code",
   "execution_count": null,
   "metadata": {},
   "outputs": [],
   "source": [
    "quadratic = {}\n",
    "x1 = 0\n",
    "while x1 < n:\n",
    "    x2 = x1\n",
    "    while x2 < n:\n",
    "        qubo_d[(x1, x2)] = int(QUBO[x1][x2])\n",
    "        x2 += 1\n",
    "    x1 += 1"
   ]
  },
  {
   "cell_type": "code",
   "execution_count": 158,
   "metadata": {},
   "outputs": [
    {
     "name": "stdout",
     "output_type": "stream",
     "text": [
      "({0: 0.0, 1: 0.0, 2: 0.0}, {(0, 1): 1.0, (0, 2): 1.5, (1, 2): 3.0}, -5.5)\n",
      "\n",
      "\n",
      "{0: 0.0, 1: 0.0, 2: 0.0}\n",
      "\n",
      "\n",
      "{(0, 1): 1.0, (0, 2): 1.5, (1, 2): 3.0}\n"
     ]
    }
   ],
   "source": [
    "isingX = dimod.qubo_to_ising(qubo_d, 0)\n",
    "\n",
    "print(isingX)\n",
    "(linear, quadratic, _) = isingX\n",
    "print(\"\\n\")\n",
    "print(linear)\n",
    "print(\"\\n\")\n",
    "print(quadratic)"
   ]
  },
  {
   "cell_type": "code",
   "execution_count": 157,
   "metadata": {},
   "outputs": [],
   "source": [
    "linear_coefficents = [linear[i] for i in range(n_qubits) if i in linear]\n",
    "quadratic_coefficents = [quadratic[(i, j)] for i in range(n_qubits) for j in range(n_qubits) if (i, j) in quadratic]"
   ]
  },
  {
   "cell_type": "code",
   "execution_count": 143,
   "metadata": {},
   "outputs": [
    {
     "data": {
      "text/plain": [
       "[0.0, 0.0, 0.0]"
      ]
     },
     "execution_count": 143,
     "metadata": {},
     "output_type": "execute_result"
    }
   ],
   "source": [
    "linear_coefficents"
   ]
  },
  {
   "cell_type": "code",
   "execution_count": 144,
   "metadata": {},
   "outputs": [
    {
     "data": {
      "text/plain": [
       "{(0, 1): 1.0, (0, 2): 1.5, (1, 2): 3.0}"
      ]
     },
     "execution_count": 144,
     "metadata": {},
     "output_type": "execute_result"
    }
   ],
   "source": [
    "quadratic"
   ]
  },
  {
   "cell_type": "code",
   "execution_count": null,
   "metadata": {},
   "outputs": [],
   "source": []
  },
  {
   "cell_type": "code",
   "execution_count": null,
   "metadata": {},
   "outputs": [],
   "source": []
  },
  {
   "cell_type": "code",
   "execution_count": null,
   "metadata": {},
   "outputs": [],
   "source": []
  },
  {
   "cell_type": "code",
   "execution_count": null,
   "metadata": {},
   "outputs": [],
   "source": []
  },
  {
   "cell_type": "markdown",
   "metadata": {},
   "source": [
    "### The Initial State \n",
    "The initial state used during QAOA is usually an equal superposition of all the basis states "
   ]
  },
  {
   "cell_type": "code",
   "execution_count": 145,
   "metadata": {},
   "outputs": [
    {
     "data": {
      "image/png": "[encoded data removed]",
      "text/plain": [
       "<Figure size 146.797x204.68 with 1 Axes>"
      ]
     },
     "execution_count": 145,
     "metadata": {},
     "output_type": "execute_result"
    }
   ],
   "source": [
    "qc_0 = QuantumCircuit(n_qubits)\n",
    "for i in range(0, n_qubits):\n",
    "    qc_0.h(i)\n",
    "    \n",
    "qc_0.draw('mpl')"
   ]
  },
  {
   "cell_type": "markdown",
   "metadata": {},
   "source": [
    "### The Mixing Unitary"
   ]
  },
  {
   "cell_type": "code",
   "execution_count": 146,
   "metadata": {},
   "outputs": [
    {
     "data": {
      "image/png": "[encoded data removed]",
      "text/plain": [
       "<Figure size 146.797x204.68 with 1 Axes>"
      ]
     },
     "execution_count": 146,
     "metadata": {},
     "output_type": "execute_result"
    }
   ],
   "source": [
    "# Adjacency is essentially a matrix which tells you which nodes are\n",
    "# connected. This matrix is given as a sparse matrix, so we need to\n",
    "# convert it to a dense matrix\n",
    "nqubits = len(number_set)\n",
    "\n",
    "beta = Parameter(\"$\\\\beta$\")\n",
    "qc_mix = QuantumCircuit(nqubits)\n",
    "\n",
    "for i in range(0, nqubits):\n",
    "    qc_mix.rx(2 * beta, i)\n",
    "    \n",
    "qc_mix.draw('mpl')"
   ]
  },
  {
   "cell_type": "markdown",
   "metadata": {},
   "source": [
    "### The Problem Unitary"
   ]
  },
  {
   "cell_type": "code",
   "execution_count": 148,
   "metadata": {},
   "outputs": [
    {
     "data": {
      "image/png": "[encoded data removed]",
      "text/plain": [
       "<Figure size 628.397x204.68 with 1 Axes>"
      ]
     },
     "execution_count": 148,
     "metadata": {},
     "output_type": "execute_result"
    }
   ],
   "source": [
    "gamma = Parameter(\"$\\\\gamma$\")\n",
    "qc_p = QuantumCircuit(nqubits)\n",
    "\n",
    "for i in range(n_qubits):\n",
    "    for j in range(n_qubits):\n",
    "        if (i, j) in quadratic:\n",
    "            qc_p.rzz(2 * gamma, i, j)\n",
    "            qc_p.barrier\n",
    "    \n",
    "qc_p.decompose().draw('mpl')"
   ]
  },
  {
   "cell_type": "markdown",
   "metadata": {},
   "source": [
    "### The QAOA circuit\n",
    "So far we have seen that the preparation of a quantum state during QAOA is composed of three elements\n",
    "- Preparing an initial state\n",
    "- Applying the unitary $U\\left(H_{P}\\right)=e^{-i \\gamma H_{P}}$ corresponding to the problem Hamiltonian\n",
    "- Then, applying the mixing unitary $U\\left(H_{B}\\right)=e^{-i \\beta H_{B}}$"
   ]
  },
  {
   "cell_type": "code",
   "execution_count": 149,
   "metadata": {},
   "outputs": [
    {
     "data": {
      "image/png": "[encoded data removed]",
      "text/plain": [
       "<Figure size 748.797x204.68 with 1 Axes>"
      ]
     },
     "execution_count": 149,
     "metadata": {},
     "output_type": "execute_result"
    }
   ],
   "source": [
    "qc_qaoa = QuantumCircuit(nqubits)\n",
    "\n",
    "qc_qaoa.append(qc_0, [i for i in range(0, nqubits)])\n",
    "qc_qaoa.append(qc_p, [i for i in range(0, nqubits)])\n",
    "qc_qaoa.append(qc_mix, [i for i in range(0, nqubits)])\n",
    "\n",
    "qc_qaoa.decompose().decompose().draw('mpl')"
   ]
  },
  {
   "cell_type": "markdown",
   "metadata": {},
   "source": [
    "### Optimal parameters\n",
    "The next step is to find the optimal parameters $\\left(\\boldsymbol{\\beta}_{\\boldsymbol{o p t}}, \\boldsymbol{\\gamma}_{o p t}\\right)$ such that the expectation value\n",
    "\n",
    "$$\n",
    "\\left\\langle\\psi\\left(\\boldsymbol{\\beta}_{o p t}, \\boldsymbol{\\gamma}_{o p t}\\right)\\left|H_{P}\\right| \\psi\\left(\\boldsymbol{\\beta}_{o p t}, \\gamma_{o p t}\\right)\\right\\rangle\n",
    "$$\n",
    "\n",
    "is minimized. Such an expectation can be obtained by doing measurement in the Z-basis. We use a classical optimization algorithm to find the optimal parameters. \n",
    "\n",
    "### Plan\n",
    "1. Initialize $\\boldsymbol{\\beta}$ and $\\boldsymbol{\\gamma}$ to suitable real values.\n",
    "2. Repeat until some suitable convergence criteria is met:\n",
    "    1. Prepare the state $|\\psi(\\boldsymbol{\\beta}, \\boldsymbol{\\gamma})\\rangle$ using qaoa circuit\n",
    "    2. Measure the state in standard basis\n",
    "    3. Compute $\\left\\langle\\psi(\\boldsymbol{\\beta}, \\boldsymbol{\\gamma})\\left|H_{P}\\right| \\psi(\\boldsymbol{\\beta}, \\boldsymbol{\\gamma})\\right\\rangle$\n",
    "    4. Find new set of parameters $\\left(\\boldsymbol{\\beta}_{\\text {new }}, \\boldsymbol{\\gamma}_{\\text {new }}\\right)$ using a classical optimization algorithm\n",
    "    5. Set current parameters $(\\boldsymbol{\\beta}, \\boldsymbol{\\gamma})$ equal to the new parameters $\\left(\\boldsymbol{\\beta}_{\\text {new }}, \\boldsymbol{\\gamma}_{\\text {new }}\\right)$"
   ]
  },
  {
   "cell_type": "code",
   "execution_count": 133,
   "metadata": {},
   "outputs": [],
   "source": [
    "def obj_f(x, QUBO):\n",
    "    \"\"\"        \n",
    "    Returns:\n",
    "        obj: float\n",
    "             Objective\n",
    "    \"\"\"\n",
    "    vector = np.unpackbits(np.array([int(x,2)], dtype=np.uint8))\n",
    "    vector = np.asmatrix(vector[5:]) \n",
    "    obj = QUBO*vector.transpose()\n",
    "    return np.sum(obj)\n",
    "\n",
    "def compute_expectation(counts, QUBO):\n",
    "    \n",
    "    \"\"\"\n",
    "    Computes expectation value based on measurement results\n",
    "    \n",
    "    Args:\n",
    "        counts: dict\n",
    "                key as bitstring, val as count\n",
    "        \n",
    "    Returns:\n",
    "        avg: float\n",
    "             expectation value\n",
    "    \"\"\"\n",
    "    avg = 0\n",
    "    sum_count = 0\n",
    "    for bitstring, count in counts.items():\n",
    "        \n",
    "        obj = obj_f(bitstring, QUBO)\n",
    "        avg += obj * count\n",
    "        sum_count += count\n",
    "        \n",
    "    return avg/sum_count\n",
    "\n",
    "\n",
    "# We will also bring the different circuit components that\n",
    "# build the qaoa circuit under a single function\n",
    "def create_qaoa_circ(theta,n):\n",
    "    \n",
    "    \"\"\"\n",
    "    Creates a parametrized qaoa circuit\n",
    "    \n",
    "    Args:  \n",
    "        G: networkx graph\n",
    "        theta: list\n",
    "               unitary parameters\n",
    "                     \n",
    "    Returns:\n",
    "        qc: qiskit circuit\n",
    "    \"\"\"\n",
    "    \n",
    "    nqubits = n\n",
    "    p = len(theta)//2  # number of alternating unitaries\n",
    "    qc = QuantumCircuit(nqubits)\n",
    "    \n",
    "    beta = theta[:p]\n",
    "    gamma = theta[p:]\n",
    "    \n",
    "    # initial_state\n",
    "    for i in range(0, nqubits):\n",
    "        qc.h(i)\n",
    "    \n",
    "    for irep in range(0, p):\n",
    "        \n",
    "        # problem unitary\n",
    "        for i in range(n_qubits):\n",
    "            for j in range(n_qubits):\n",
    "                if (i, j) in quadratic:\n",
    "                    qc.rzz(2*beta[irep], i, j)\n",
    "                    qc.barrier\n",
    "\n",
    "       \n",
    "         # mixer unitary\n",
    "        for i in range(0, nqubits):\n",
    "            qc.rx(2*gamma[irep], i)\n",
    "            \n",
    "    qc.measure_all()\n",
    "        \n",
    "    return qc\n",
    "\n",
    "# Finally we write a function that executes the circuit on the chosen backend\n",
    "def get_expectation(p, shots=512):\n",
    "    \n",
    "    \"\"\"\n",
    "    Runs parametrized circuit\n",
    "    \n",
    "    Args:\n",
    "        p: int,\n",
    "           Number of repetitions of unitaries\n",
    "    \"\"\"\n",
    "    \n",
    "    backend = Aer.get_backend('qasm_simulator')\n",
    "    backend.shots = shots\n",
    "    \n",
    "    def execute_circ(theta):\n",
    "        \n",
    "        qc = create_qaoa_circ(theta,n)\n",
    "        counts = backend.run(qc, seed_simulator=10, \n",
    "                             nshots=512).result().get_counts()\n",
    "        return compute_expectation(counts, QUBO)\n",
    "    \n",
    "    return execute_circ"
   ]
  },
  {
   "cell_type": "code",
   "execution_count": 37,
   "metadata": {},
   "outputs": [
    {
     "data": {
      "text/plain": [
       "     fun: -50.9169921875\n",
       "   maxcv: 0.0\n",
       " message: 'Optimization terminated successfully.'\n",
       "    nfev: 48\n",
       "  status: 1\n",
       " success: True\n",
       "       x: array([0.45979088, 1.00366402, 1.40126267, 0.26968769])"
      ]
     },
     "execution_count": 41,
     "metadata": {},
     "output_type": "execute_result"
    }
   ],
   "source": [
    "from scipy.optimize import minimize\n",
    "\n",
    "\n",
    "expectation = get_expectation(p=2)\n",
    "\n",
    "res = minimize(expectation, [1.0, 1.0, 1.0, 1.0],  method='COBYLA')\n",
    "res"
   ]
  },
  {
   "cell_type": "code",
   "execution_count": 38,
   "metadata": {},
   "outputs": [
    {
     "data": {
      "image/png": "[encoded data removed]",
      "text/plain": [
       "<Figure size 504x360 with 1 Axes>"
      ]
     },
     "execution_count": 42,
     "metadata": {},
     "output_type": "execute_result"
    }
   ],
   "source": [
    "backend = Aer.get_backend('aer_simulator')\n",
    "backend.shots = 512\n",
    "\n",
    "qc_res = create_qaoa_circ(res.x,n)\n",
    "\n",
    "counts = backend.run(qc_res, seed_simulator=10).result().get_counts()\n",
    "\n",
    "plot_histogram(counts)"
   ]
  },
  {
   "cell_type": "code",
   "execution_count": 39,
   "metadata": {},
   "outputs": [
    {
     "data": {
      "image/png": "[encoded data removed]",
      "text/plain": [
       "<Figure size 1260.68x264.88 with 1 Axes>"
      ]
     },
     "execution_count": 43,
     "metadata": {},
     "output_type": "execute_result"
    }
   ],
   "source": [
    "qc_res.draw('mpl')"
   ]
  },
  {
   "cell_type": "code",
   "execution_count": 107,
   "metadata": {},
   "outputs": [
    {
     "name": "stdout",
     "output_type": "stream",
     "text": [
      "[[ -57.   48.   30.]\n",
      " [   0. -112.   80.]\n",
      " [   0.    0.  -85.]]\n"
     ]
    }
   ],
   "source": [
    "n = len(number_set)\n",
    "QUBO = fill_QUBO(number_set, S)\n",
    "print(QUBO)\n",
    "\n",
    "linear = {}\n",
    "quadratic = {}\n",
    "x1 = 0\n",
    "while x1 < n:\n",
    "    x2 = x1\n",
    "    while x2 < n:\n",
    "        if (x2 == x1):\n",
    "            linear[(x1, x2)] = int(QUBO[x1][x2])\n",
    "        else:\n",
    "            quadratic[(x1, x2)] = int(QUBO[x1][x2])\n",
    "        x2 += 1\n",
    "    x1 += 1\n"
   ]
  },
  {
   "cell_type": "code",
   "execution_count": 108,
   "metadata": {},
   "outputs": [
    {
     "data": {
      "text/plain": [
       "{(0, 1): 48, (0, 2): 30, (1, 2): 80}"
      ]
     },
     "execution_count": 108,
     "metadata": {},
     "output_type": "execute_result"
    }
   ],
   "source": [
    "quadratic"
   ]
  },
  {
   "cell_type": "code",
   "execution_count": 109,
   "metadata": {},
   "outputs": [],
   "source": [
    "def get_quadratic_problem(n_qubits, linear, quadratic):\n",
    "    \"\"\"\n",
    "    Construct Qiskit QuadraticProgram\n",
    "    \"\"\"\n",
    "    problem = QuadraticProgram()\n",
    "    _ = [problem.binary_var(\"x{}\".format(i)) for i in range(n_qubits)]\n",
    "    problem.maximize(\n",
    "        linear=linear,\n",
    "        quadratic=quadratic,\n",
    "    )\n",
    "    return problem"
   ]
  },
  {
   "cell_type": "code",
   "execution_count": 110,
   "metadata": {},
   "outputs": [
    {
     "data": {
      "text/plain": [
       "\\ This file has been generated by DOcplex\n",
       "\\ ENCODING=ISO-8859-1\n",
       "\\Problem name: CPLEX\n",
       "\n",
       "Maximize\n",
       " obj: - 57 x0 - 112 x1 - 85 x2 + [ 96 x0*x1 + 60 x0*x2 + 160 x1*x2 ]/2\n",
       "Subject To\n",
       "\n",
       "Bounds\n",
       " 0 <= x0 <= 1\n",
       " 0 <= x1 <= 1\n",
       " 0 <= x2 <= 1\n",
       "\n",
       "Binaries\n",
       " x0 x1 x2\n",
       "End"
      ]
     },
     "execution_count": 110,
     "metadata": {},
     "output_type": "execute_result"
    }
   ],
   "source": [
    "get_quadratic_problem(n_qubits, linear, quadratic)"
   ]
  },
  {
   "cell_type": "code",
   "execution_count": 97,
   "metadata": {},
   "outputs": [],
   "source": [
    "problem = get_quadratic_problem(n_qubits, linear, quadratic)\n",
    "C, offset = problem.to_ising()"
   ]
  },
  {
   "cell_type": "code",
   "execution_count": 112,
   "metadata": {},
   "outputs": [],
   "source": [
    "from qiskit import BasicAer\n",
    "from qiskit.optimization import QuadraticProgram\n",
    "from qiskit.optimization.algorithms import MinimumEigenOptimizer\n",
    "\n",
    "from qiskit.aqua import aqua_globals, QuantumInstance\n",
    "from qiskit.aqua.algorithms import QAOA"
   ]
  },
  {
   "cell_type": "code",
   "execution_count": 115,
   "metadata": {},
   "outputs": [
    {
     "name": "stderr",
     "output_type": "stream",
     "text": [
      "C:\\Users\\potap\\AppData\\Local\\Programs\\Python\\Python38\\lib\\site-packages\\qiskit\\aqua\\algorithms\\quantum_algorithm.py:46: DeprecationWarning: The variable qiskit.aqua.aqua_globals is deprecated. It was moved/refactored to qiskit.utils.algorithm_globals (pip install qiskit-terra). For more information see <https://github.com/Qiskit/qiskit-aqua/blob/main/README.md#migration-guide>\n",
      "  return aqua_globals.random\n"
     ]
    }
   ],
   "source": [
    "quantum_instance = QuantumInstance(BasicAer.get_backend('qasm_simulator'))\n",
    "qaoa_mes = QAOA(quantum_instance=quantum_instance)\n",
    "qaoa = MinimumEigenOptimizer(qaoa_mes)\n",
    "qaoa_result = qaoa.solve(problem)"
   ]
  },
  {
   "cell_type": "code",
   "execution_count": 116,
   "metadata": {},
   "outputs": [
    {
     "data": {
      "text/plain": [
       "optimal function value: 0.0\n",
       "optimal value: [0. 0. 0.]\n",
       "status: SUCCESS"
      ]
     },
     "execution_count": 116,
     "metadata": {},
     "output_type": "execute_result"
    }
   ],
   "source": [
    "qaoa_result"
   ]
  },
  {
   "cell_type": "code",
   "execution_count": 98,
   "metadata": {},
   "outputs": [],
   "source": [
    "from qiskit.algorithms.minimum_eigen_solvers.qaoa import QAOAAnsatz\n"
   ]
  },
  {
   "cell_type": "code",
   "execution_count": 99,
   "metadata": {},
   "outputs": [],
   "source": [
    "p = 3\n",
    "ansatz = QAOAAnsatz(C, p)"
   ]
  },
  {
   "cell_type": "code",
   "execution_count": 93,
   "metadata": {},
   "outputs": [],
   "source": [
    "parameters = ansatz.parameters\n",
    "ansatz = ansatz.decompose()"
   ]
  },
  {
   "cell_type": "code",
   "execution_count": 94,
   "metadata": {},
   "outputs": [
    {
     "data": {
      "text/plain": [
       "<qiskit.circuit.quantumcircuit.QuantumCircuit at 0x1ea1e2c97c0>"
      ]
     },
     "execution_count": 94,
     "metadata": {},
     "output_type": "execute_result"
    }
   ],
   "source": [
    "ansatz"
   ]
  },
  {
   "cell_type": "code",
   "execution_count": 95,
   "metadata": {},
   "outputs": [
    {
     "ename": "QiskitError",
     "evalue": "'No counts for experiment \"0\"'",
     "output_type": "error",
     "traceback": [
      "\u001b[1;31m---------------------------------------------------------------------------\u001b[0m",
      "\u001b[1;31mQiskitError\u001b[0m                               Traceback (most recent call last)",
      "\u001b[1;32m<ipython-input-95-08afdc143583>\u001b[0m in \u001b[0;36m<module>\u001b[1;34m\u001b[0m\n\u001b[1;32m----> 1\u001b[1;33m \u001b[0mcounts\u001b[0m \u001b[1;33m=\u001b[0m \u001b[0mbackend\u001b[0m\u001b[1;33m.\u001b[0m\u001b[0mrun\u001b[0m\u001b[1;33m(\u001b[0m\u001b[0mansatz\u001b[0m\u001b[1;33m,\u001b[0m \u001b[0mseed_simulator\u001b[0m\u001b[1;33m=\u001b[0m\u001b[1;36m10\u001b[0m\u001b[1;33m)\u001b[0m\u001b[1;33m.\u001b[0m\u001b[0mresult\u001b[0m\u001b[1;33m(\u001b[0m\u001b[1;33m)\u001b[0m\u001b[1;33m.\u001b[0m\u001b[0mget_counts\u001b[0m\u001b[1;33m(\u001b[0m\u001b[1;33m)\u001b[0m\u001b[1;33m\u001b[0m\u001b[1;33m\u001b[0m\u001b[0m\n\u001b[0m\u001b[0;32m      2\u001b[0m \u001b[1;33m\u001b[0m\u001b[0m\n\u001b[0;32m      3\u001b[0m \u001b[0mplot_histogram\u001b[0m\u001b[1;33m(\u001b[0m\u001b[0mcounts\u001b[0m\u001b[1;33m)\u001b[0m\u001b[1;33m\u001b[0m\u001b[1;33m\u001b[0m\u001b[0m\n",
      "\u001b[1;32m~\\AppData\\Local\\Programs\\Python\\Python38\\lib\\site-packages\\qiskit\\result\\result.py\u001b[0m in \u001b[0;36mget_counts\u001b[1;34m(self, experiment)\u001b[0m\n\u001b[0;32m    298\u001b[0m                 \u001b[0mdict_list\u001b[0m\u001b[1;33m.\u001b[0m\u001b[0mappend\u001b[0m\u001b[1;33m(\u001b[0m\u001b[0mstatevector\u001b[0m\u001b[1;33m.\u001b[0m\u001b[0mStatevector\u001b[0m\u001b[1;33m(\u001b[0m\u001b[0mvec\u001b[0m\u001b[1;33m)\u001b[0m\u001b[1;33m.\u001b[0m\u001b[0mprobabilities_dict\u001b[0m\u001b[1;33m(\u001b[0m\u001b[0mdecimals\u001b[0m\u001b[1;33m=\u001b[0m\u001b[1;36m15\u001b[0m\u001b[1;33m)\u001b[0m\u001b[1;33m)\u001b[0m\u001b[1;33m\u001b[0m\u001b[1;33m\u001b[0m\u001b[0m\n\u001b[0;32m    299\u001b[0m             \u001b[1;32melse\u001b[0m\u001b[1;33m:\u001b[0m\u001b[1;33m\u001b[0m\u001b[1;33m\u001b[0m\u001b[0m\n\u001b[1;32m--> 300\u001b[1;33m                 \u001b[1;32mraise\u001b[0m \u001b[0mQiskitError\u001b[0m\u001b[1;33m(\u001b[0m\u001b[1;34mf'No counts for experiment \"{repr(key)}\"'\u001b[0m\u001b[1;33m)\u001b[0m\u001b[1;33m\u001b[0m\u001b[1;33m\u001b[0m\u001b[0m\n\u001b[0m\u001b[0;32m    301\u001b[0m \u001b[1;33m\u001b[0m\u001b[0m\n\u001b[0;32m    302\u001b[0m         \u001b[1;31m# Return first item of dict_list if size is 1\u001b[0m\u001b[1;33m\u001b[0m\u001b[1;33m\u001b[0m\u001b[1;33m\u001b[0m\u001b[0m\n",
      "\u001b[1;31mQiskitError\u001b[0m: 'No counts for experiment \"0\"'"
     ]
    }
   ],
   "source": [
    "counts = backend.run(ansatz, seed_simulator=10).result().get_counts()\n",
    "\n",
    "plot_histogram(counts)"
   ]
  },
  {
   "cell_type": "code",
   "execution_count": 96,
   "metadata": {},
   "outputs": [
    {
     "data": {
      "image/png": "[encoded data removed]",
      "text/plain": [
       "<Figure size 90.3x24.08 with 1 Axes>"
      ]
     },
     "execution_count": 96,
     "metadata": {},
     "output_type": "execute_result"
    }
   ],
   "source": [
    "ansatz.draw('mpl')"
   ]
  },
  {
   "cell_type": "code",
   "execution_count": null,
   "metadata": {},
   "outputs": [],
   "source": []
  },
  {
   "cell_type": "code",
   "execution_count": null,
   "metadata": {},
   "outputs": [],
   "source": []
  }
 ],
 "metadata": {
  "kernelspec": {
   "display_name": "Python 3",
   "language": "python",
   "name": "python3"
  },
  "language_info": {
   "codemirror_mode": {
    "name": "ipython",
    "version": 3
   },
   "file_extension": ".py",
   "mimetype": "text/x-python",
   "name": "python",
   "nbconvert_exporter": "python",
   "pygments_lexer": "ipython3",
   "version": "3.8.10"
  }
 },
 "nbformat": 4,
 "nbformat_minor": 4
}
